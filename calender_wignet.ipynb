{
 "cells": [
  {
   "cell_type": "markdown",
   "metadata": {},
   "source": [
    "# Notion Wignets\n",
    "\n",
    "Skript for å lære med hvordan man laget wignets"
   ]
  },
  {
   "cell_type": "code",
   "execution_count": 7,
   "metadata": {},
   "outputs": [
    {
     "name": "stdout",
     "output_type": "stream",
     "text": [
      "bekreftelse_paa_innboforsikring.pdf\n",
      "calender_wignet.ipynb\n",
      "desktop.ini\n",
      "Filip Truyen.pdf\n",
      "husleiekontrakt_udbyes_gate_2025_ikke_signert.pdf\n",
      "Husleiekontrakt_udbyes_gate_2025_signert.pdf\n",
      "Husordensregler.pdf\n",
      "Iphone_bakgrunner\n",
      "Jobbsøking_2025\n",
      "kvitering_hybel.pdf\n",
      "Marie forestilling-20250204T181647Z-001.zip\n",
      "Reisekort_92314469_1.pdf\n",
      "Sunnmørsposten 13.01.25.docx\n",
      "Tng\n",
      "utleiebilder\n",
      "Vedtekter.pdf\n",
      "wignet_test.html\n",
      "~$Amanda_Truyen_Bedømmelse_av_barns_talekvalitet_ved_hjelp_av_KI_Ferdig.pptx\n",
      "~$esentasjon.docx\n",
      "~$sk1_språk3501.docx\n",
      "~WRL0365.tmp\n"
     ]
    }
   ],
   "source": [
    "import os \n",
    "cwd = os.getcwd() # current working directory\n",
    "dir_list = os.listdir(cwd)\n",
    "\n",
    "for item in dir_list:\n",
    "    print(item)\n",
    "    \n",
    "# Make new path   \n",
    "    # path = os.path.join(parent_dir, directory) \n",
    "# Make new directory - use with try\n",
    "    # os.mkdir(path)\n",
    "    # try:\n",
    "    #     os.mkdir(path)\n",
    "    # except OSError as error:\n",
    "    #     print(error) "
   ]
  },
  {
   "cell_type": "code",
   "execution_count": 9,
   "metadata": {},
   "outputs": [
    {
     "ename": "SyntaxError",
     "evalue": "invalid syntax (3725842262.py, line 1)",
     "output_type": "error",
     "traceback": [
      "\u001b[1;36m  Cell \u001b[1;32mIn[9], line 1\u001b[1;36m\u001b[0m\n\u001b[1;33m    python -m http.server\u001b[0m\n\u001b[1;37m              ^\u001b[0m\n\u001b[1;31mSyntaxError\u001b[0m\u001b[1;31m:\u001b[0m invalid syntax\n"
     ]
    }
   ],
   "source": [
    "-m http.server"
   ]
  },
  {
   "cell_type": "code",
   "execution_count": null,
   "metadata": {},
   "outputs": [],
   "source": []
  }
 ],
 "metadata": {
  "kernelspec": {
   "display_name": "base",
   "language": "python",
   "name": "python3"
  },
  "language_info": {
   "codemirror_mode": {
    "name": "ipython",
    "version": 3
   },
   "file_extension": ".py",
   "mimetype": "text/x-python",
   "name": "python",
   "nbconvert_exporter": "python",
   "pygments_lexer": "ipython3",
   "version": "3.11.7"
  }
 },
 "nbformat": 4,
 "nbformat_minor": 2
}
